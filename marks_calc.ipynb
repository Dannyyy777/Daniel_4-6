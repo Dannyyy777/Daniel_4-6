{
 "cells": [
  {
   "cell_type": "markdown",
   "metadata": {},
   "source": [
    "# Author: Daniel\n",
    "#### Date: 15-02-2024\n",
    "#### Description: Student Marks Calculator.\n",
    "#### Batch: 4pm - 6pm"
   ]
  },
  {
   "cell_type": "code",
   "execution_count": 15,
   "metadata": {},
   "outputs": [
    {
     "name": "stdout",
     "output_type": "stream",
     "text": [
      "Invalid Entry!!!\n",
      "Total marks of Daniel = 360\n",
      "Percentage = 72.0 %\n",
      "AVERAGE!!!\n"
     ]
    }
   ],
   "source": [
    "name = input(\"Enter the name of the student = \")\n",
    "\n",
    "m1 = int(input(\"Enter the marks of math = \"))\n",
    "m2 = int(input(\"Enter the marks of english = \"))\n",
    "m3 = int(input(\"Enter the marks of science = \"))\n",
    "m4 = int(input(\"Enter the marks of computers = \"))\n",
    "m5 = int(input(\"Enter the marks of social science = \"))\n",
    "\n",
    "marks = [m1,m2,m3,m4,m5]\n",
    "\n",
    "for i in marks: \n",
    "    if i >= 0 and i <= 100:\n",
    "        total_marks = m1 + m2 + m3 + m4 + m5\n",
    "        perc = total_marks/500 * 100\n",
    "    else:\n",
    "        print(\"Invalid Entry!!!\")\n",
    "        break\n",
    "\n",
    "print(f\"Total marks of {name} = {total_marks}\")\n",
    "print(f\"Percentage = {perc} %\")\n",
    "\n",
    "if total_marks >= 450 and total_marks <= 500:\n",
    "    print(\"DISTINCTION!!!\")\n",
    "elif total_marks >= 400 and total_marks <= 449:\n",
    "    print(\"FIRST CLASS!!!\")\n",
    "elif total_marks >= 300 and total_marks <= 399:\n",
    "    print(\"AVERAGE!!!\")\n",
    "else:\n",
    "    print(\"FAIL!!!\")    \n"
   ]
  },
  {
   "cell_type": "code",
   "execution_count": null,
   "metadata": {},
   "outputs": [],
   "source": []
  }
 ],
 "metadata": {
  "kernelspec": {
   "display_name": "Python 3",
   "language": "python",
   "name": "python3"
  },
  "language_info": {
   "codemirror_mode": {
    "name": "ipython",
    "version": 3
   },
   "file_extension": ".py",
   "mimetype": "text/x-python",
   "name": "python",
   "nbconvert_exporter": "python",
   "pygments_lexer": "ipython3",
   "version": "3.12.2"
  }
 },
 "nbformat": 4,
 "nbformat_minor": 2
}
