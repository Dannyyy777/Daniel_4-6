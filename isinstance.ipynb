{
 "cells": [
  {
   "cell_type": "markdown",
   "metadata": {},
   "source": [
    "# Author: Daniel\n",
    "#### Date: 13-02-2024\n",
    "#### Description: Using isinstance() to check if a number is an int, float or str.\n",
    "#### Batch: 4pm - 6pm"
   ]
  },
  {
   "cell_type": "code",
   "execution_count": 13,
   "metadata": {},
   "outputs": [
    {
     "name": "stdout",
     "output_type": "stream",
     "text": [
      "True\n"
     ]
    }
   ],
   "source": [
    "x = isinstance(7, (int, float, str))\n",
    "print(x)"
   ]
  },
  {
   "cell_type": "code",
   "execution_count": 37,
   "metadata": {},
   "outputs": [
    {
     "name": "stdout",
     "output_type": "stream",
     "text": [
      "Float value.\n"
     ]
    }
   ],
   "source": [
    "num = input(\"Enter a number: \")\n",
    "y = \".\"\n",
    "if y in num:\n",
    "    print(\"Float value.\")\n",
    "elif num.isdigit():\n",
    "    print(\"Integer value.\")\n",
    "elif num.lstrip(\"-\"):\n",
    "    print(\"Negative Number.\")\n",
    "else:\n",
    "    print(\"String value.\")"
   ]
  }
 ],
 "metadata": {
  "kernelspec": {
   "display_name": "Python 3",
   "language": "python",
   "name": "python3"
  },
  "language_info": {
   "codemirror_mode": {
    "name": "ipython",
    "version": 3
   },
   "file_extension": ".py",
   "mimetype": "text/x-python",
   "name": "python",
   "nbconvert_exporter": "python",
   "pygments_lexer": "ipython3",
   "version": "3.12.1"
  }
 },
 "nbformat": 4,
 "nbformat_minor": 2
}
